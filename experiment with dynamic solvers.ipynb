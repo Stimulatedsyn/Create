{
  "cells": [
    {
      "cell_type": "markdown",
      "metadata": {
        "id": "view-in-github",
        "colab_type": "text"
      },
      "source": [
        "<a href=\"https://colab.research.google.com/github/Stimulatedsyn/Create/blob/main/experiment%20with%20dynamic%20solvers.ipynb\" target=\"_parent\"><img src=\"https://colab.research.google.com/assets/colab-badge.svg\" alt=\"Open In Colab\"/></a>"
      ]
    },
    {
      "cell_type": "code",
      "source": [
        "!pip install torchdiffeq torchsde torch torchvision matplotlib"
      ],
      "metadata": {
        "colab": {
          "base_uri": "https://localhost:8080/"
        },
        "id": "aVEdHBbGCoy2",
        "outputId": "81d5a470-60de-4126-8c6b-477748f30943"
      },
      "execution_count": 81,
      "outputs": [
        {
          "output_type": "stream",
          "name": "stdout",
          "text": [
            "Requirement already satisfied: torchdiffeq in /usr/local/lib/python3.10/dist-packages (0.2.5)\n",
            "Requirement already satisfied: torchsde in /usr/local/lib/python3.10/dist-packages (0.2.6)\n",
            "Requirement already satisfied: torch in /usr/local/lib/python3.10/dist-packages (2.5.1+cu121)\n",
            "Requirement already satisfied: torchvision in /usr/local/lib/python3.10/dist-packages (0.20.1+cu121)\n",
            "Requirement already satisfied: matplotlib in /usr/local/lib/python3.10/dist-packages (3.8.0)\n",
            "Requirement already satisfied: scipy>=1.4.0 in /usr/local/lib/python3.10/dist-packages (from torchdiffeq) (1.13.1)\n",
            "Requirement already satisfied: numpy>=1.19 in /usr/local/lib/python3.10/dist-packages (from torchsde) (1.26.4)\n",
            "Requirement already satisfied: trampoline>=0.1.2 in /usr/local/lib/python3.10/dist-packages (from torchsde) (0.1.2)\n",
            "Requirement already satisfied: filelock in /usr/local/lib/python3.10/dist-packages (from torch) (3.16.1)\n",
            "Requirement already satisfied: typing-extensions>=4.8.0 in /usr/local/lib/python3.10/dist-packages (from torch) (4.12.2)\n",
            "Requirement already satisfied: networkx in /usr/local/lib/python3.10/dist-packages (from torch) (3.4.2)\n",
            "Requirement already satisfied: jinja2 in /usr/local/lib/python3.10/dist-packages (from torch) (3.1.4)\n",
            "Requirement already satisfied: fsspec in /usr/local/lib/python3.10/dist-packages (from torch) (2024.10.0)\n",
            "Requirement already satisfied: sympy==1.13.1 in /usr/local/lib/python3.10/dist-packages (from torch) (1.13.1)\n",
            "Requirement already satisfied: mpmath<1.4,>=1.1.0 in /usr/local/lib/python3.10/dist-packages (from sympy==1.13.1->torch) (1.3.0)\n",
            "Requirement already satisfied: pillow!=8.3.*,>=5.3.0 in /usr/local/lib/python3.10/dist-packages (from torchvision) (11.0.0)\n",
            "Requirement already satisfied: contourpy>=1.0.1 in /usr/local/lib/python3.10/dist-packages (from matplotlib) (1.3.1)\n",
            "Requirement already satisfied: cycler>=0.10 in /usr/local/lib/python3.10/dist-packages (from matplotlib) (0.12.1)\n",
            "Requirement already satisfied: fonttools>=4.22.0 in /usr/local/lib/python3.10/dist-packages (from matplotlib) (4.55.1)\n",
            "Requirement already satisfied: kiwisolver>=1.0.1 in /usr/local/lib/python3.10/dist-packages (from matplotlib) (1.4.7)\n",
            "Requirement already satisfied: packaging>=20.0 in /usr/local/lib/python3.10/dist-packages (from matplotlib) (24.2)\n",
            "Requirement already satisfied: pyparsing>=2.3.1 in /usr/local/lib/python3.10/dist-packages (from matplotlib) (3.2.0)\n",
            "Requirement already satisfied: python-dateutil>=2.7 in /usr/local/lib/python3.10/dist-packages (from matplotlib) (2.8.2)\n",
            "Requirement already satisfied: six>=1.5 in /usr/local/lib/python3.10/dist-packages (from python-dateutil>=2.7->matplotlib) (1.16.0)\n",
            "Requirement already satisfied: MarkupSafe>=2.0 in /usr/local/lib/python3.10/dist-packages (from jinja2->torch) (3.0.2)\n"
          ]
        }
      ]
    },
    {
      "cell_type": "code",
      "execution_count": 82,
      "metadata": {
        "id": "lIYdn1woOS1n"
      },
      "outputs": [],
      "source": [
        "import torch\n",
        "import torch.nn as nn\n",
        "import torch.optim as optim\n",
        "import torchdiffeq\n",
        "import torchsde\n"
      ]
    },
    {
      "cell_type": "code",
      "source": [
        "# Deterministic dataset: Linear trajectory\n",
        "def generate_deterministic_data(n_samples, input_dim):\n",
        "    x = torch.linspace(0, 1, n_samples).unsqueeze(-1)\n",
        "    y = 3 * x + 2  # Linear function\n",
        "    return x, y\n",
        "\n",
        "# Stochastic dataset: Brownian motion\n",
        "def generate_stochastic_data(n_samples, input_dim):\n",
        "    x = torch.linspace(0, 1, n_samples).unsqueeze(-1)\n",
        "    y = torch.cumsum(torch.randn(n_samples, 1), dim=0)  # Brownian motion\n",
        "    return x, y\n"
      ],
      "metadata": {
        "id": "Zn4W-h4jDQ0A"
      },
      "execution_count": 83,
      "outputs": []
    },
    {
      "cell_type": "code",
      "source": [
        "class ControllerNetwork(nn.Module):\n",
        "    \"\"\"\n",
        "    Neural network for controlling gating and discrete solver selection.\n",
        "    Outputs:\n",
        "    - Gate decision: Binary decision to use SDE or ODE.\n",
        "    \"\"\"\n",
        "    def __init__(self, input_dim, hidden_dim):\n",
        "        super(ControllerNetwork, self).__init__()\n",
        "        self.gate_net = nn.Sequential(\n",
        "            nn.Linear(input_dim, hidden_dim),\n",
        "            nn.ReLU(),\n",
        "            nn.Linear(hidden_dim, 1),\n",
        "            nn.Sigmoid()  # Outputs probability for SDE\n",
        "        )\n",
        "\n",
        "    def forward(self, x):\n",
        "        gate_prob = self.gate_net(x)\n",
        "        return gate_prob\n"
      ],
      "metadata": {
        "id": "xy-Kros0DZEf"
      },
      "execution_count": 84,
      "outputs": []
    },
    {
      "cell_type": "code",
      "source": [
        "class UnifiedDynamicSolver(nn.Module):\n",
        "    \"\"\"\n",
        "    Unified solver capable of either SDE or ODE dynamics, controlled by a discrete gate.\n",
        "    \"\"\"\n",
        "    def __init__(self, input_dim, hidden_dim):\n",
        "        super(UnifiedDynamicSolver, self).__init__()\n",
        "        # Linear layer to project input to hidden_dim\n",
        "        self.input_projection = nn.Linear(input_dim, hidden_dim)\n",
        "\n",
        "        # Drift (shared by both solvers)\n",
        "        self.drift = nn.Sequential(\n",
        "            nn.Linear(hidden_dim, hidden_dim),\n",
        "            nn.ReLU(),\n",
        "            nn.Linear(hidden_dim, hidden_dim),\n",
        "        )\n",
        "        # Diffusion (used only in the SDE solver)\n",
        "        self.diffusion = nn.Sequential(\n",
        "            nn.Linear(hidden_dim, hidden_dim),\n",
        "            nn.Tanh(),\n",
        "            nn.Linear(hidden_dim, hidden_dim),\n",
        "        )\n",
        "\n",
        "    def forward(self, x, t_span, gate_decision):\n",
        "        # Project input to hidden_dim\n",
        "        x_projected = self.input_projection(x)\n",
        "\n",
        "        # Define the SDE function\n",
        "        class SDEFunction(nn.Module):\n",
        "            noise_type = \"diagonal\"\n",
        "            sde_type = \"ito\"\n",
        "\n",
        "            def __init__(self, drift, diffusion):\n",
        "                super(SDEFunction, self).__init__()\n",
        "                self.drift = drift\n",
        "                self.diffusion = diffusion\n",
        "\n",
        "            def f(self, t, y):\n",
        "                \"\"\"Drift term.\"\"\"\n",
        "                return self.drift(y)\n",
        "\n",
        "            def g(self, t, y):\n",
        "                \"\"\"Diffusion term.\"\"\"\n",
        "                return self.diffusion(y)\n",
        "\n",
        "        # Define the ODE function\n",
        "        class ODEFunction(nn.Module):\n",
        "            def __init__(self, drift):\n",
        "                super(ODEFunction, self).__init__()\n",
        "                self.drift = drift\n",
        "\n",
        "            def forward(self, t, y):\n",
        "                \"\"\"Deterministic dynamics.\"\"\"\n",
        "                return self.drift(y)\n",
        "\n",
        "        # Initialize solvers\n",
        "        sde_func = SDEFunction(self.drift, self.diffusion)\n",
        "        ode_func = ODEFunction(self.drift)\n",
        "\n",
        "        # Solve using SDE and ODE for all inputs\n",
        "        sde_solution = torchsde.sdeint(sde_func, x_projected, t_span, method='euler')[-1]\n",
        "        ode_solution = torchdiffeq.odeint(ode_func, x_projected, t_span)[-1]\n",
        "\n",
        "        # Select based on gate_decision\n",
        "        combined_output = gate_decision * sde_solution + (1 - gate_decision) * ode_solution\n",
        "        return combined_output\n"
      ],
      "metadata": {
        "id": "sTaHcLwqDZLw"
      },
      "execution_count": 85,
      "outputs": []
    },
    {
      "cell_type": "code",
      "source": [
        "class AdvancedACMDN(nn.Module):\n",
        "    \"\"\"\n",
        "    Model integrating dynamic solver switching with discrete gate decisions.\n",
        "    \"\"\"\n",
        "    def __init__(self, input_dim, hidden_dim, output_dim):\n",
        "        super(AdvancedACMDN, self).__init__()\n",
        "        self.controller = ControllerNetwork(input_dim, hidden_dim)\n",
        "        self.unified_solver = UnifiedDynamicSolver(input_dim, hidden_dim)  # Pass both arguments\n",
        "        self.output_layer = nn.Linear(hidden_dim, output_dim * 2)  # Mean and log variance\n",
        "\n",
        "    def forward(self, x, t_span):\n",
        "        # Get gate decision (soft during training, hard during inference)\n",
        "        gate_prob = self.controller(x)\n",
        "        gate_decision = (gate_prob > 0.5).float()  # Binary decision\n",
        "\n",
        "        # Solve with the selected solver\n",
        "        solver_output = self.unified_solver(x, t_span, gate_decision)\n",
        "\n",
        "        # Final output (mean and log variance for NLL computation)\n",
        "        output = self.output_layer(solver_output).view(-1, 2)\n",
        "        return output, gate_prob, gate_decision\n",
        "\n"
      ],
      "metadata": {
        "id": "P2hPYl4FDZPn"
      },
      "execution_count": 86,
      "outputs": []
    },
    {
      "cell_type": "code",
      "source": [
        "import matplotlib.pyplot as plt\n",
        "\n",
        "def visualize_gate_decisions(x, gate_probs, true_labels=None):\n",
        "    \"\"\"\n",
        "    Visualize gate probabilities and their alignment with the task type.\n",
        "    Args:\n",
        "        x: Input data points (1D or 2D).\n",
        "        gate_probs: Gate probabilities (0 to 1).\n",
        "        true_labels: Ground truth labels (0 for deterministic, 1 for stochastic), optional.\n",
        "    \"\"\"\n",
        "    plt.figure(figsize=(10, 6))\n",
        "    plt.scatter(x.squeeze(), gate_probs.detach().numpy(), c='blue', label='Gate Probabilities')\n",
        "    if true_labels is not None:\n",
        "        plt.scatter(x.squeeze(), true_labels, c='red', alpha=0.5, label='True Labels')\n",
        "    plt.axhline(0.5, color='gray', linestyle='--', label='Decision Threshold')\n",
        "    plt.xlabel('Input')\n",
        "    plt.ylabel('Gate Probability')\n",
        "    plt.title('Gate Decisions')\n",
        "    plt.legend()\n",
        "    plt.show()\n"
      ],
      "metadata": {
        "id": "oTUjU3F_DZYN"
      },
      "execution_count": 87,
      "outputs": []
    },
    {
      "cell_type": "code",
      "source": [
        "# NLL Loss\n",
        "def nll_loss(predicted, target):\n",
        "    mean, log_var = predicted[:, 0], predicted[:, 1]\n",
        "    var = torch.exp(log_var)\n",
        "    nll = 0.5 * torch.log(2 * torch.pi * var) + (target - mean) ** 2 / (2 * var)\n",
        "    return torch.mean(nll)\n",
        "\n",
        "# Combined Loss with Solver-Specific Loss Selection\n",
        "def combined_loss(output, target, gate_decision):\n",
        "    \"\"\"\n",
        "    Compute the combined loss for MSE and NLL based on gate decisions.\n",
        "    Args:\n",
        "        output: Model predictions (mean and log variance for NLL).\n",
        "        target: Ground truth values.\n",
        "        gate_decision: Binary mask for selecting between SDE and ODE losses.\n",
        "    Returns:\n",
        "        Scalar loss value.\n",
        "    \"\"\"\n",
        "    # Flatten the target to match the shape of output[:, 0]\n",
        "    target = target.view(-1)\n",
        "\n",
        "    # MSE Loss\n",
        "    mse = nn.MSELoss(reduction='none')(output[:, 0], target)  # No reduction\n",
        "\n",
        "    # NLL Loss\n",
        "    nll = nll_loss(output, target)  # Already scalar per sample\n",
        "\n",
        "    # Combine losses based on gate_decision\n",
        "    loss = gate_decision * nll + (1 - gate_decision) * mse\n",
        "    return loss.mean()  # Reduce to scalar\n",
        "\n"
      ],
      "metadata": {
        "id": "9Sg8QSuzDZTB"
      },
      "execution_count": 88,
      "outputs": []
    },
    {
      "cell_type": "code",
      "source": [
        "def visualize_solver_outputs(x, y_true, y_pred, gate_decisions):\n",
        "    \"\"\"\n",
        "    Visualize the solver outputs for deterministic and stochastic data.\n",
        "    Args:\n",
        "        x: Input data points.\n",
        "        y_true: True outputs.\n",
        "        y_pred: Predicted outputs.\n",
        "        gate_decisions: Gate decisions (binary: 0 for ODE, 1 for SDE).\n",
        "    \"\"\"\n",
        "    plt.figure(figsize=(12, 6))\n",
        "\n",
        "    # Separate deterministic and stochastic regions\n",
        "    deterministic_mask = (gate_decisions == 0).squeeze()\n",
        "    stochastic_mask = (gate_decisions == 1).squeeze()\n",
        "\n",
        "    # Plot deterministic outputs\n",
        "    plt.scatter(x[deterministic_mask].squeeze(), y_true[deterministic_mask], c='blue', label='True (Deterministic)')\n",
        "    plt.scatter(x[deterministic_mask].squeeze(), y_pred[deterministic_mask, 0], c='cyan', label='Predicted (ODE)')\n",
        "\n",
        "    # Plot stochastic outputs\n",
        "    plt.scatter(x[stochastic_mask].squeeze(), y_true[stochastic_mask], c='red', label='True (Stochastic)')\n",
        "    plt.scatter(x[stochastic_mask].squeeze(), y_pred[stochastic_mask, 0], c='orange', label='Predicted (SDE Mean)')\n",
        "\n",
        "    plt.xlabel('Input')\n",
        "    plt.ylabel('Output')\n",
        "    plt.title('Solver Outputs (ODE vs SDE)')\n",
        "    plt.legend()\n",
        "    plt.show()\n"
      ],
      "metadata": {
        "id": "Uu37uQ6dDtSn"
      },
      "execution_count": 89,
      "outputs": []
    },
    {
      "cell_type": "code",
      "source": [
        "def visualize_loss_landscape(model, x, y_true, t_span):\n",
        "    \"\"\"\n",
        "    Visualize the loss landscape by varying gate probabilities.\n",
        "    Args:\n",
        "        model: The trained model.\n",
        "        x: Input data points.\n",
        "        y_true: Ground truth outputs.\n",
        "        t_span: Time span for solvers.\n",
        "    \"\"\"\n",
        "    gate_probs = torch.linspace(0, 1, 100)  # Gate probabilities from 0 to 1\n",
        "    losses = []\n",
        "\n",
        "    for gate_prob in gate_probs:\n",
        "        gate_decision = (gate_prob > 0.5).float()\n",
        "        with torch.no_grad():\n",
        "            output, _, _ = model(x, t_span)\n",
        "            loss = combined_loss(output, y_true, gate_decision)\n",
        "            losses.append(loss.item())\n",
        "\n",
        "    # Plot the loss landscape\n",
        "    plt.figure(figsize=(10, 6))\n",
        "    plt.plot(gate_probs.numpy(), losses, label='Loss')\n",
        "    plt.xlabel('Gate Probability')\n",
        "    plt.ylabel('Loss')\n",
        "    plt.title('Loss Landscape Across Gate Decisions')\n",
        "    plt.axvline(0.5, color='gray', linestyle='--', label='Decision Threshold')\n",
        "    plt.legend()\n",
        "    plt.show()\n"
      ],
      "metadata": {
        "id": "_gqdzhDuDtYv"
      },
      "execution_count": 90,
      "outputs": []
    },
    {
      "cell_type": "code",
      "source": [
        "# Training parameters\n",
        "input_dim = 1\n",
        "hidden_dim = 64\n",
        "output_dim = 1\n",
        "n_samples = 100\n",
        "batch_size = 16\n",
        "epochs = 50\n",
        "\n",
        "# Generate data\n",
        "x_det, y_det = generate_deterministic_data(n_samples, input_dim)\n",
        "x_sto, y_sto = generate_stochastic_data(n_samples, input_dim)\n",
        "x = torch.cat([x_det, x_sto], dim=0)\n",
        "y = torch.cat([y_det, y_sto], dim=0)\n",
        "\n",
        "# Instantiate model\n",
        "model = AdvancedACMDN(input_dim, hidden_dim, output_dim)\n",
        "optimizer = optim.Adam(model.parameters(), lr=1e-3)\n",
        "\n",
        "# Training loop\n",
        "# Training loop with visualizations\n",
        "for epoch in range(epochs):\n",
        "    permutation = torch.randperm(x.size(0))  # Shuffle data\n",
        "    x_shuffled = x[permutation]\n",
        "    y_shuffled = y[permutation]\n",
        "\n",
        "    for i in range(0, x.size(0), batch_size):\n",
        "        x_batch = x_shuffled[i:i + batch_size]\n",
        "        y_batch = y_shuffled[i:i + batch_size]\n",
        "\n",
        "        # Time span for solver\n",
        "        t_span = torch.linspace(0, 1, 100)\n",
        "\n",
        "        # Forward pass\n",
        "        output, gate_prob, gate_decision = model(x_batch, t_span)\n",
        "\n",
        "        # Compute combined loss\n",
        "        gate_decision = (gate_prob > 0.5).float()  # Binary mask\n",
        "        loss = combined_loss(output, y_batch, gate_decision)  # Scalar\n",
        "\n",
        "        # Backward pass\n",
        "        optimizer.zero_grad()\n",
        "        loss.backward()\n",
        "        optimizer.step()\n",
        "\n",
        "    # Log progress\n",
        "    print(f\"Epoch {epoch + 1}/{epochs}, Loss: {loss.item():.4f}\")\n",
        "\n",
        "\n",
        "    # Visualizations\n",
        "    if (epoch + 1) % 10 == 0:  # Visualize every 10 epochs\n",
        "        print(\"Visualizing Gate Decisions...\")\n",
        "        visualize_gate_decisions(x, gate_prob, true_labels=None)\n",
        "\n",
        "        print(\"Visualizing Solver Outputs...\")\n",
        "        visualize_solver_outputs(x, y, output, gate_decision)\n",
        "\n",
        "        print(\"Visualizing Loss Landscape...\")\n",
        "        visualize_loss_landscape(model, x, y, t_span)\n"
      ],
      "metadata": {
        "colab": {
          "base_uri": "https://localhost:8080/"
        },
        "id": "ju9Mf4-YDZV1",
        "outputId": "347fb385-eeb7-41e0-c5a1-bcaeef3defd7"
      },
      "execution_count": null,
      "outputs": [
        {
          "output_type": "stream",
          "name": "stdout",
          "text": [
            "Epoch 1/50, Loss: 6.0069\n",
            "Epoch 2/50, Loss: 2.8892\n",
            "Epoch 3/50, Loss: 2.8304\n",
            "Epoch 4/50, Loss: 2.7476\n",
            "Epoch 5/50, Loss: 2.5074\n",
            "Epoch 6/50, Loss: 2.6108\n"
          ]
        }
      ]
    },
    {
      "cell_type": "code",
      "source": [],
      "metadata": {
        "id": "pvanadQlDtdc"
      },
      "execution_count": null,
      "outputs": []
    }
  ],
  "metadata": {
    "colab": {
      "name": "scratchpad",
      "provenance": [],
      "include_colab_link": true
    },
    "kernelspec": {
      "display_name": "Python 3",
      "name": "python3"
    }
  },
  "nbformat": 4,
  "nbformat_minor": 0
}